{
  "nbformat": 4,
  "nbformat_minor": 0,
  "metadata": {
    "colab": {
      "provenance": [],
      "authorship_tag": "ABX9TyM5fJ6vIVhV/Rtp46fGqp1I"
    },
    "kernelspec": {
      "name": "python3",
      "display_name": "Python 3"
    },
    "language_info": {
      "name": "python"
    }
  },
  "cells": [
    {
      "cell_type": "markdown",
      "source": [
        "# Introduction\n",
        "This code generates a house_prices_raw.csv file with 1000 fake data points and their respective features and target. The data used for predicting house prices project. Instead of using a list of predefined names, the Faker library is used to generate unique fake housing information.\n",
        "\n",
        "The generated CSV was saved to Google which can be accessed from Google Colab or downloaded for use in other development environments. "
      ],
      "metadata": {
        "id": "ynlv9jFjPLEk"
      }
    },
    {
      "cell_type": "markdown",
      "source": [
        "# Install Faker"
      ],
      "metadata": {
        "id": "aBJBuQWQDlc_"
      }
    },
    {
      "cell_type": "code",
      "source": [
        "# Install package \n",
        "!pip install Faker"
      ],
      "metadata": {
        "colab": {
          "base_uri": "https://localhost:8080/"
        },
        "id": "Ao8LxleLEL-9",
        "outputId": "7da52237-b5aa-4624-ce0c-40de0a84f018"
      },
      "execution_count": null,
      "outputs": [
        {
          "output_type": "stream",
          "name": "stdout",
          "text": [
            "Looking in indexes: https://pypi.org/simple, https://us-python.pkg.dev/colab-wheels/public/simple/\n",
            "Requirement already satisfied: Faker in /usr/local/lib/python3.8/dist-packages (16.6.1)\n",
            "Requirement already satisfied: python-dateutil>=2.4 in /usr/local/lib/python3.8/dist-packages (from Faker) (2.8.2)\n",
            "Requirement already satisfied: six>=1.5 in /usr/local/lib/python3.8/dist-packages (from python-dateutil>=2.4->Faker) (1.15.0)\n"
          ]
        }
      ]
    },
    {
      "cell_type": "markdown",
      "source": [
        "# Import Libraries"
      ],
      "metadata": {
        "id": "KIrujl7tD4ft"
      }
    },
    {
      "cell_type": "code",
      "source": [
        "# Import library \n",
        "from google.colab import drive\n",
        "from faker import Faker\n",
        "import pandas as pd\n",
        "import random"
      ],
      "metadata": {
        "id": "49qXoTkMaCzq"
      },
      "execution_count": null,
      "outputs": []
    },
    {
      "cell_type": "code",
      "source": [
        "# Mount your Google Drive to Colab\n",
        "drive.mount('/content/drive')"
      ],
      "metadata": {
        "colab": {
          "base_uri": "https://localhost:8080/"
        },
        "id": "txnreXycZyRM",
        "outputId": "c13d6f40-7d22-440c-ae26-162e8c2ddee5"
      },
      "execution_count": null,
      "outputs": [
        {
          "output_type": "stream",
          "name": "stdout",
          "text": [
            "Mounted at /content/drive\n"
          ]
        }
      ]
    },
    {
      "cell_type": "code",
      "execution_count": null,
      "metadata": {
        "id": "mUNVwZPYDhpK"
      },
      "outputs": [],
      "source": [
        "\n",
        "# Initialize the faker library\n",
        "fake = Faker()\n",
        "\n",
        "# Define the number of data points you want to generate\n",
        "N = 1000\n",
        "\n",
        "# Generate a list of fake locations\n",
        "locations = [fake.state() for _ in range(N)]   # list comprehension \n",
        "\n",
        "# Generate a list of fake number of bedrooms\n",
        "bedrooms = [random.randint(1, 5) for _ in range(N)]\n",
        "\n",
        "# Generate a list of fake square footage\n",
        "square_footage = [random.randint(1000, 5000) for _ in range(N)]\n",
        "\n",
        "# Generate a list of fake year built\n",
        "year_built = [fake.year() for _ in range(N)]\n",
        "\n",
        "# Combine the data into a DataFrame\n",
        "data = pd.DataFrame({'Location': locations, 'Number_of_bedrooms': bedrooms, 'Square_footage': square_footage, 'Year_built': year_built})\n",
        "\n",
        "# Save the synthetic data to a file\n",
        "# data.to_csv(\"house_prices_raw.csv\", index=False)\n",
        "data.to_csv(\"/content/drive/My Drive/house_prices_raw.csv\", index=False)\n",
        "\n",
        "# # NOTE:\n",
        "# # instead of list comprehension, a regular FOR LOOP can used as below:\n",
        "# locations = []\n",
        "# for _ in range(N):\n",
        "#     locations.append(fake.state())\n",
        "\n"
      ]
    }
  ]
}